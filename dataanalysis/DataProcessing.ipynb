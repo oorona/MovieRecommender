{
 "cells": [
  {
   "cell_type": "code",
   "execution_count": 26,
   "metadata": {},
   "outputs": [],
   "source": [
    "import requests\n",
    "from requests.compat import urljoin\n",
    "import json\n",
    "import shutil\n",
    "import pandas as pd\n",
    "import io\n",
    "import re\n",
    "import numpy as np"
   ]
  },
  {
   "cell_type": "code",
   "execution_count": 27,
   "metadata": {},
   "outputs": [
    {
     "output_type": "stream",
     "name": "stdout",
     "text": [
      "https://liangfgithub.github.io/MovieData/movies.dat?raw=true\n"
     ]
    }
   ],
   "source": [
    "base=\"https://liangfgithub.github.io/MovieData/\"\n",
    "urlmovies=urljoin(base,\"movies.dat?raw=true\")\n",
    "urlratings=urljoin(base,\"ratings.dat?raw=true\")\n",
    "urlusers=urljoin(base,\"users.dat?raw=true\")\n",
    "baseimages=\"https://liangfgithub.github.io/MovieImages/\"\n",
    "\n",
    "print (urlmovies)"
   ]
  },
  {
   "cell_type": "code",
   "execution_count": 28,
   "metadata": {},
   "outputs": [
    {
     "output_type": "execute_result",
     "data": {
      "text/plain": [
       "      MovieID                               Movie  \\\n",
       "0           1                    Toy Story (1995)   \n",
       "1           2                      Jumanji (1995)   \n",
       "2           3             Grumpier Old Men (1995)   \n",
       "3           4            Waiting to Exhale (1995)   \n",
       "4           5  Father of the Bride Part II (1995)   \n",
       "...       ...                                 ...   \n",
       "3878     3948             Meet the Parents (2000)   \n",
       "3879     3949          Requiem for a Dream (2000)   \n",
       "3880     3950                    Tigerland (2000)   \n",
       "3881     3951             Two Family House (2000)   \n",
       "3882     3952               Contender, The (2000)   \n",
       "\n",
       "                            Genres  \n",
       "0      Animation|Children's|Comedy  \n",
       "1     Adventure|Children's|Fantasy  \n",
       "2                   Comedy|Romance  \n",
       "3                     Comedy|Drama  \n",
       "4                           Comedy  \n",
       "...                            ...  \n",
       "3878                        Comedy  \n",
       "3879                         Drama  \n",
       "3880                         Drama  \n",
       "3881                         Drama  \n",
       "3882                Drama|Thriller  \n",
       "\n",
       "[3883 rows x 3 columns]"
      ],
      "text/html": "<div>\n<style scoped>\n    .dataframe tbody tr th:only-of-type {\n        vertical-align: middle;\n    }\n\n    .dataframe tbody tr th {\n        vertical-align: top;\n    }\n\n    .dataframe thead th {\n        text-align: right;\n    }\n</style>\n<table border=\"1\" class=\"dataframe\">\n  <thead>\n    <tr style=\"text-align: right;\">\n      <th></th>\n      <th>MovieID</th>\n      <th>Movie</th>\n      <th>Genres</th>\n    </tr>\n  </thead>\n  <tbody>\n    <tr>\n      <th>0</th>\n      <td>1</td>\n      <td>Toy Story (1995)</td>\n      <td>Animation|Children's|Comedy</td>\n    </tr>\n    <tr>\n      <th>1</th>\n      <td>2</td>\n      <td>Jumanji (1995)</td>\n      <td>Adventure|Children's|Fantasy</td>\n    </tr>\n    <tr>\n      <th>2</th>\n      <td>3</td>\n      <td>Grumpier Old Men (1995)</td>\n      <td>Comedy|Romance</td>\n    </tr>\n    <tr>\n      <th>3</th>\n      <td>4</td>\n      <td>Waiting to Exhale (1995)</td>\n      <td>Comedy|Drama</td>\n    </tr>\n    <tr>\n      <th>4</th>\n      <td>5</td>\n      <td>Father of the Bride Part II (1995)</td>\n      <td>Comedy</td>\n    </tr>\n    <tr>\n      <th>...</th>\n      <td>...</td>\n      <td>...</td>\n      <td>...</td>\n    </tr>\n    <tr>\n      <th>3878</th>\n      <td>3948</td>\n      <td>Meet the Parents (2000)</td>\n      <td>Comedy</td>\n    </tr>\n    <tr>\n      <th>3879</th>\n      <td>3949</td>\n      <td>Requiem for a Dream (2000)</td>\n      <td>Drama</td>\n    </tr>\n    <tr>\n      <th>3880</th>\n      <td>3950</td>\n      <td>Tigerland (2000)</td>\n      <td>Drama</td>\n    </tr>\n    <tr>\n      <th>3881</th>\n      <td>3951</td>\n      <td>Two Family House (2000)</td>\n      <td>Drama</td>\n    </tr>\n    <tr>\n      <th>3882</th>\n      <td>3952</td>\n      <td>Contender, The (2000)</td>\n      <td>Drama|Thriller</td>\n    </tr>\n  </tbody>\n</table>\n<p>3883 rows × 3 columns</p>\n</div>"
     },
     "metadata": {},
     "execution_count": 28
    }
   ],
   "source": [
    "r=requests.get(urlmovies,stream = True)\n",
    "data=r.text\n",
    "moviesraw=pd.read_csv(io.StringIO(data),sep='::',header=None)\n",
    "moviesraw.columns=[\"MovieID\",\"Movie\",\"Genres\"]\n",
    "moviesraw"
   ]
  },
  {
   "cell_type": "code",
   "execution_count": 29,
   "metadata": {
    "tags": []
   },
   "outputs": [
    {
     "output_type": "execute_result",
     "data": {
      "text/plain": [
       "      MovieID                               Movie  \\\n",
       "0           1                    Toy Story (1995)   \n",
       "1           2                      Jumanji (1995)   \n",
       "2           3             Grumpier Old Men (1995)   \n",
       "3           4            Waiting to Exhale (1995)   \n",
       "4           5  Father of the Bride Part II (1995)   \n",
       "...       ...                                 ...   \n",
       "3878     3948             Meet the Parents (2000)   \n",
       "3879     3949          Requiem for a Dream (2000)   \n",
       "3880     3950                    Tigerland (2000)   \n",
       "3881     3951             Two Family House (2000)   \n",
       "3882     3952               Contender, The (2000)   \n",
       "\n",
       "                            Genres                        Title  Year  \\\n",
       "0      Animation|Children's|Comedy                    Toy Story  1995   \n",
       "1     Adventure|Children's|Fantasy                      Jumanji  1995   \n",
       "2                   Comedy|Romance             Grumpier Old Men  1995   \n",
       "3                     Comedy|Drama            Waiting to Exhale  1995   \n",
       "4                           Comedy  Father of the Bride Part II  1995   \n",
       "...                            ...                          ...   ...   \n",
       "3878                        Comedy             Meet the Parents  2000   \n",
       "3879                         Drama          Requiem for a Dream  2000   \n",
       "3880                         Drama                    Tigerland  2000   \n",
       "3881                         Drama             Two Family House  2000   \n",
       "3882                Drama|Thriller                Contender The  2000   \n",
       "\n",
       "                    Filename       Cat1        Cat2     Cat3  Cat4  Cat5  Cat6  \n",
       "0        images/movies/1.jpg  Animation  Children's   Comedy  None  None  None  \n",
       "1        images/movies/2.jpg  Adventure  Children's  Fantasy  None  None  None  \n",
       "2        images/movies/3.jpg     Comedy     Romance     None  None  None  None  \n",
       "3        images/movies/4.jpg     Comedy       Drama     None  None  None  None  \n",
       "4        images/movies/5.jpg     Comedy        None     None  None  None  None  \n",
       "...                      ...        ...         ...      ...   ...   ...   ...  \n",
       "3878  images/movies/3948.jpg     Comedy        None     None  None  None  None  \n",
       "3879  images/movies/3949.jpg      Drama        None     None  None  None  None  \n",
       "3880  images/movies/3950.jpg      Drama        None     None  None  None  None  \n",
       "3881  images/movies/3951.jpg      Drama        None     None  None  None  None  \n",
       "3882  images/movies/3952.jpg      Drama    Thriller     None  None  None  None  \n",
       "\n",
       "[3883 rows x 12 columns]"
      ],
      "text/html": "<div>\n<style scoped>\n    .dataframe tbody tr th:only-of-type {\n        vertical-align: middle;\n    }\n\n    .dataframe tbody tr th {\n        vertical-align: top;\n    }\n\n    .dataframe thead th {\n        text-align: right;\n    }\n</style>\n<table border=\"1\" class=\"dataframe\">\n  <thead>\n    <tr style=\"text-align: right;\">\n      <th></th>\n      <th>MovieID</th>\n      <th>Movie</th>\n      <th>Genres</th>\n      <th>Title</th>\n      <th>Year</th>\n      <th>Filename</th>\n      <th>Cat1</th>\n      <th>Cat2</th>\n      <th>Cat3</th>\n      <th>Cat4</th>\n      <th>Cat5</th>\n      <th>Cat6</th>\n    </tr>\n  </thead>\n  <tbody>\n    <tr>\n      <th>0</th>\n      <td>1</td>\n      <td>Toy Story (1995)</td>\n      <td>Animation|Children's|Comedy</td>\n      <td>Toy Story</td>\n      <td>1995</td>\n      <td>images/movies/1.jpg</td>\n      <td>Animation</td>\n      <td>Children's</td>\n      <td>Comedy</td>\n      <td>None</td>\n      <td>None</td>\n      <td>None</td>\n    </tr>\n    <tr>\n      <th>1</th>\n      <td>2</td>\n      <td>Jumanji (1995)</td>\n      <td>Adventure|Children's|Fantasy</td>\n      <td>Jumanji</td>\n      <td>1995</td>\n      <td>images/movies/2.jpg</td>\n      <td>Adventure</td>\n      <td>Children's</td>\n      <td>Fantasy</td>\n      <td>None</td>\n      <td>None</td>\n      <td>None</td>\n    </tr>\n    <tr>\n      <th>2</th>\n      <td>3</td>\n      <td>Grumpier Old Men (1995)</td>\n      <td>Comedy|Romance</td>\n      <td>Grumpier Old Men</td>\n      <td>1995</td>\n      <td>images/movies/3.jpg</td>\n      <td>Comedy</td>\n      <td>Romance</td>\n      <td>None</td>\n      <td>None</td>\n      <td>None</td>\n      <td>None</td>\n    </tr>\n    <tr>\n      <th>3</th>\n      <td>4</td>\n      <td>Waiting to Exhale (1995)</td>\n      <td>Comedy|Drama</td>\n      <td>Waiting to Exhale</td>\n      <td>1995</td>\n      <td>images/movies/4.jpg</td>\n      <td>Comedy</td>\n      <td>Drama</td>\n      <td>None</td>\n      <td>None</td>\n      <td>None</td>\n      <td>None</td>\n    </tr>\n    <tr>\n      <th>4</th>\n      <td>5</td>\n      <td>Father of the Bride Part II (1995)</td>\n      <td>Comedy</td>\n      <td>Father of the Bride Part II</td>\n      <td>1995</td>\n      <td>images/movies/5.jpg</td>\n      <td>Comedy</td>\n      <td>None</td>\n      <td>None</td>\n      <td>None</td>\n      <td>None</td>\n      <td>None</td>\n    </tr>\n    <tr>\n      <th>...</th>\n      <td>...</td>\n      <td>...</td>\n      <td>...</td>\n      <td>...</td>\n      <td>...</td>\n      <td>...</td>\n      <td>...</td>\n      <td>...</td>\n      <td>...</td>\n      <td>...</td>\n      <td>...</td>\n      <td>...</td>\n    </tr>\n    <tr>\n      <th>3878</th>\n      <td>3948</td>\n      <td>Meet the Parents (2000)</td>\n      <td>Comedy</td>\n      <td>Meet the Parents</td>\n      <td>2000</td>\n      <td>images/movies/3948.jpg</td>\n      <td>Comedy</td>\n      <td>None</td>\n      <td>None</td>\n      <td>None</td>\n      <td>None</td>\n      <td>None</td>\n    </tr>\n    <tr>\n      <th>3879</th>\n      <td>3949</td>\n      <td>Requiem for a Dream (2000)</td>\n      <td>Drama</td>\n      <td>Requiem for a Dream</td>\n      <td>2000</td>\n      <td>images/movies/3949.jpg</td>\n      <td>Drama</td>\n      <td>None</td>\n      <td>None</td>\n      <td>None</td>\n      <td>None</td>\n      <td>None</td>\n    </tr>\n    <tr>\n      <th>3880</th>\n      <td>3950</td>\n      <td>Tigerland (2000)</td>\n      <td>Drama</td>\n      <td>Tigerland</td>\n      <td>2000</td>\n      <td>images/movies/3950.jpg</td>\n      <td>Drama</td>\n      <td>None</td>\n      <td>None</td>\n      <td>None</td>\n      <td>None</td>\n      <td>None</td>\n    </tr>\n    <tr>\n      <th>3881</th>\n      <td>3951</td>\n      <td>Two Family House (2000)</td>\n      <td>Drama</td>\n      <td>Two Family House</td>\n      <td>2000</td>\n      <td>images/movies/3951.jpg</td>\n      <td>Drama</td>\n      <td>None</td>\n      <td>None</td>\n      <td>None</td>\n      <td>None</td>\n      <td>None</td>\n    </tr>\n    <tr>\n      <th>3882</th>\n      <td>3952</td>\n      <td>Contender, The (2000)</td>\n      <td>Drama|Thriller</td>\n      <td>Contender The</td>\n      <td>2000</td>\n      <td>images/movies/3952.jpg</td>\n      <td>Drama</td>\n      <td>Thriller</td>\n      <td>None</td>\n      <td>None</td>\n      <td>None</td>\n      <td>None</td>\n    </tr>\n  </tbody>\n</table>\n<p>3883 rows × 12 columns</p>\n</div>"
     },
     "metadata": {},
     "execution_count": 29
    }
   ],
   "source": [
    "movies=moviesraw\n",
    "movies.Movie=movies.Movie.str.replace(r\"\\(.*\\) ?\\(\",\"(\")\n",
    "movies[[\"Title\",\"Year\"]]=moviesraw.Movie.str.split(r\" \\(\",expand=True,n=1)\n",
    "movies.Year=movies.Year.str.replace(\")\",\"\").astype(int)\n",
    "movies.Title=movies.Title.str.replace(r\"[^a-zA-Z ]\",\"\")\n",
    "movies['Filename']=\"images/movies/\"+movies.MovieID.astype(str)+\".jpg\"\n",
    "movies[[\"Cat1\",\"Cat2\",\"Cat3\",\"Cat4\",\"Cat5\",\"Cat6\"]]=movies.Genres.str.split(r\"|\",expand=True,n=5)\n",
    "movies"
   ]
  },
  {
   "cell_type": "code",
   "execution_count": 30,
   "metadata": {},
   "outputs": [
    {
     "output_type": "execute_result",
     "data": {
      "text/plain": [
       "         UserID  MovieID  Rating  Timestamp\n",
       "0             1     1193       5  978300760\n",
       "1             1      661       3  978302109\n",
       "2             1      914       3  978301968\n",
       "3             1     3408       4  978300275\n",
       "4             1     2355       5  978824291\n",
       "...         ...      ...     ...        ...\n",
       "1000204    6040     1091       1  956716541\n",
       "1000205    6040     1094       5  956704887\n",
       "1000206    6040      562       5  956704746\n",
       "1000207    6040     1096       4  956715648\n",
       "1000208    6040     1097       4  956715569\n",
       "\n",
       "[1000209 rows x 4 columns]"
      ],
      "text/html": "<div>\n<style scoped>\n    .dataframe tbody tr th:only-of-type {\n        vertical-align: middle;\n    }\n\n    .dataframe tbody tr th {\n        vertical-align: top;\n    }\n\n    .dataframe thead th {\n        text-align: right;\n    }\n</style>\n<table border=\"1\" class=\"dataframe\">\n  <thead>\n    <tr style=\"text-align: right;\">\n      <th></th>\n      <th>UserID</th>\n      <th>MovieID</th>\n      <th>Rating</th>\n      <th>Timestamp</th>\n    </tr>\n  </thead>\n  <tbody>\n    <tr>\n      <th>0</th>\n      <td>1</td>\n      <td>1193</td>\n      <td>5</td>\n      <td>978300760</td>\n    </tr>\n    <tr>\n      <th>1</th>\n      <td>1</td>\n      <td>661</td>\n      <td>3</td>\n      <td>978302109</td>\n    </tr>\n    <tr>\n      <th>2</th>\n      <td>1</td>\n      <td>914</td>\n      <td>3</td>\n      <td>978301968</td>\n    </tr>\n    <tr>\n      <th>3</th>\n      <td>1</td>\n      <td>3408</td>\n      <td>4</td>\n      <td>978300275</td>\n    </tr>\n    <tr>\n      <th>4</th>\n      <td>1</td>\n      <td>2355</td>\n      <td>5</td>\n      <td>978824291</td>\n    </tr>\n    <tr>\n      <th>...</th>\n      <td>...</td>\n      <td>...</td>\n      <td>...</td>\n      <td>...</td>\n    </tr>\n    <tr>\n      <th>1000204</th>\n      <td>6040</td>\n      <td>1091</td>\n      <td>1</td>\n      <td>956716541</td>\n    </tr>\n    <tr>\n      <th>1000205</th>\n      <td>6040</td>\n      <td>1094</td>\n      <td>5</td>\n      <td>956704887</td>\n    </tr>\n    <tr>\n      <th>1000206</th>\n      <td>6040</td>\n      <td>562</td>\n      <td>5</td>\n      <td>956704746</td>\n    </tr>\n    <tr>\n      <th>1000207</th>\n      <td>6040</td>\n      <td>1096</td>\n      <td>4</td>\n      <td>956715648</td>\n    </tr>\n    <tr>\n      <th>1000208</th>\n      <td>6040</td>\n      <td>1097</td>\n      <td>4</td>\n      <td>956715569</td>\n    </tr>\n  </tbody>\n</table>\n<p>1000209 rows × 4 columns</p>\n</div>"
     },
     "metadata": {},
     "execution_count": 30
    }
   ],
   "source": [
    "r=requests.get(urlratings,stream = True)\n",
    "data=r.text\n",
    "ratingsraw=pd.read_csv(io.StringIO(data),sep='::',header=None)\n",
    "ratingsraw.columns=[\"UserID\", \"MovieID\", \"Rating\", \"Timestamp\"]\n",
    "ratingsraw"
   ]
  },
  {
   "cell_type": "code",
   "execution_count": 31,
   "metadata": {},
   "outputs": [
    {
     "output_type": "execute_result",
     "data": {
      "text/plain": [
       "           Rating\n",
       "MovieID          \n",
       "1        4.146846\n",
       "2        3.201141\n",
       "3        3.016736\n",
       "4        2.729412\n",
       "5        3.006757\n",
       "...           ...\n",
       "3948     3.635731\n",
       "3949     4.115132\n",
       "3950     3.666667\n",
       "3951     3.900000\n",
       "3952     3.780928\n",
       "\n",
       "[3706 rows x 1 columns]"
      ],
      "text/html": "<div>\n<style scoped>\n    .dataframe tbody tr th:only-of-type {\n        vertical-align: middle;\n    }\n\n    .dataframe tbody tr th {\n        vertical-align: top;\n    }\n\n    .dataframe thead th {\n        text-align: right;\n    }\n</style>\n<table border=\"1\" class=\"dataframe\">\n  <thead>\n    <tr style=\"text-align: right;\">\n      <th></th>\n      <th>Rating</th>\n    </tr>\n    <tr>\n      <th>MovieID</th>\n      <th></th>\n    </tr>\n  </thead>\n  <tbody>\n    <tr>\n      <th>1</th>\n      <td>4.146846</td>\n    </tr>\n    <tr>\n      <th>2</th>\n      <td>3.201141</td>\n    </tr>\n    <tr>\n      <th>3</th>\n      <td>3.016736</td>\n    </tr>\n    <tr>\n      <th>4</th>\n      <td>2.729412</td>\n    </tr>\n    <tr>\n      <th>5</th>\n      <td>3.006757</td>\n    </tr>\n    <tr>\n      <th>...</th>\n      <td>...</td>\n    </tr>\n    <tr>\n      <th>3948</th>\n      <td>3.635731</td>\n    </tr>\n    <tr>\n      <th>3949</th>\n      <td>4.115132</td>\n    </tr>\n    <tr>\n      <th>3950</th>\n      <td>3.666667</td>\n    </tr>\n    <tr>\n      <th>3951</th>\n      <td>3.900000</td>\n    </tr>\n    <tr>\n      <th>3952</th>\n      <td>3.780928</td>\n    </tr>\n  </tbody>\n</table>\n<p>3706 rows × 1 columns</p>\n</div>"
     },
     "metadata": {},
     "execution_count": 31
    }
   ],
   "source": [
    "ratings=ratingsraw\n",
    "ratingmean=ratings[['MovieID','Rating']].groupby('MovieID').mean('Rating')\n",
    "ratingmean"
   ]
  },
  {
   "cell_type": "code",
   "execution_count": 32,
   "metadata": {},
   "outputs": [
    {
     "output_type": "stream",
     "name": "stdout",
     "text": [
      "['Cat1', 'Cat2', 'Cat3', 'Cat4', 'Cat5', 'Cat6']\n"
     ]
    },
    {
     "output_type": "execute_result",
     "data": {
      "text/plain": [
       "          Category\n",
       "MovieID           \n",
       "1        Animation\n",
       "2        Adventure\n",
       "3           Comedy\n",
       "4           Comedy\n",
       "5           Comedy\n",
       "...            ...\n",
       "2054        Sci-Fi\n",
       "2080       Romance\n",
       "2081       Romance\n",
       "2322           War\n",
       "1205           War\n",
       "\n",
       "[6408 rows x 1 columns]"
      ],
      "text/html": "<div>\n<style scoped>\n    .dataframe tbody tr th:only-of-type {\n        vertical-align: middle;\n    }\n\n    .dataframe tbody tr th {\n        vertical-align: top;\n    }\n\n    .dataframe thead th {\n        text-align: right;\n    }\n</style>\n<table border=\"1\" class=\"dataframe\">\n  <thead>\n    <tr style=\"text-align: right;\">\n      <th></th>\n      <th>Category</th>\n    </tr>\n    <tr>\n      <th>MovieID</th>\n      <th></th>\n    </tr>\n  </thead>\n  <tbody>\n    <tr>\n      <th>1</th>\n      <td>Animation</td>\n    </tr>\n    <tr>\n      <th>2</th>\n      <td>Adventure</td>\n    </tr>\n    <tr>\n      <th>3</th>\n      <td>Comedy</td>\n    </tr>\n    <tr>\n      <th>4</th>\n      <td>Comedy</td>\n    </tr>\n    <tr>\n      <th>5</th>\n      <td>Comedy</td>\n    </tr>\n    <tr>\n      <th>...</th>\n      <td>...</td>\n    </tr>\n    <tr>\n      <th>2054</th>\n      <td>Sci-Fi</td>\n    </tr>\n    <tr>\n      <th>2080</th>\n      <td>Romance</td>\n    </tr>\n    <tr>\n      <th>2081</th>\n      <td>Romance</td>\n    </tr>\n    <tr>\n      <th>2322</th>\n      <td>War</td>\n    </tr>\n    <tr>\n      <th>1205</th>\n      <td>War</td>\n    </tr>\n  </tbody>\n</table>\n<p>6408 rows × 1 columns</p>\n</div>"
     },
     "metadata": {},
     "execution_count": 32
    }
   ],
   "source": [
    "cat_cols = [col for col in movies.columns if 'Cat' in col]\n",
    "print(cat_cols)\n",
    "categories= pd.DataFrame(columns=['MovieID','Category'])\n",
    "for cat_col in cat_cols:\n",
    "    catadd=movies.dropna(subset=[cat_col])[[\"MovieID\",cat_col]]\n",
    "    catadd.columns=[\"MovieID\",'Category']\n",
    "    categories=categories.append(catadd, ignore_index=True)\n",
    "categories=categories.set_index('MovieID')\n",
    "categories"
   ]
  },
  {
   "cell_type": "code",
   "execution_count": 34,
   "metadata": {},
   "outputs": [
    {
     "output_type": "execute_result",
     "data": {
      "text/plain": [
       "           Category    Rating\n",
       "MovieID                      \n",
       "1         Animation  4.146846\n",
       "1        Children's  4.146846\n",
       "1            Comedy  4.146846\n",
       "2         Adventure  3.201141\n",
       "2        Children's  3.201141\n",
       "...             ...       ...\n",
       "3949          Drama  4.115132\n",
       "3950          Drama  3.666667\n",
       "3951          Drama  3.900000\n",
       "3952          Drama  3.780928\n",
       "3952       Thriller  3.780928\n",
       "\n",
       "[6408 rows x 2 columns]"
      ],
      "text/html": "<div>\n<style scoped>\n    .dataframe tbody tr th:only-of-type {\n        vertical-align: middle;\n    }\n\n    .dataframe tbody tr th {\n        vertical-align: top;\n    }\n\n    .dataframe thead th {\n        text-align: right;\n    }\n</style>\n<table border=\"1\" class=\"dataframe\">\n  <thead>\n    <tr style=\"text-align: right;\">\n      <th></th>\n      <th>Category</th>\n      <th>Rating</th>\n    </tr>\n    <tr>\n      <th>MovieID</th>\n      <th></th>\n      <th></th>\n    </tr>\n  </thead>\n  <tbody>\n    <tr>\n      <th>1</th>\n      <td>Animation</td>\n      <td>4.146846</td>\n    </tr>\n    <tr>\n      <th>1</th>\n      <td>Children's</td>\n      <td>4.146846</td>\n    </tr>\n    <tr>\n      <th>1</th>\n      <td>Comedy</td>\n      <td>4.146846</td>\n    </tr>\n    <tr>\n      <th>2</th>\n      <td>Adventure</td>\n      <td>3.201141</td>\n    </tr>\n    <tr>\n      <th>2</th>\n      <td>Children's</td>\n      <td>3.201141</td>\n    </tr>\n    <tr>\n      <th>...</th>\n      <td>...</td>\n      <td>...</td>\n    </tr>\n    <tr>\n      <th>3949</th>\n      <td>Drama</td>\n      <td>4.115132</td>\n    </tr>\n    <tr>\n      <th>3950</th>\n      <td>Drama</td>\n      <td>3.666667</td>\n    </tr>\n    <tr>\n      <th>3951</th>\n      <td>Drama</td>\n      <td>3.900000</td>\n    </tr>\n    <tr>\n      <th>3952</th>\n      <td>Drama</td>\n      <td>3.780928</td>\n    </tr>\n    <tr>\n      <th>3952</th>\n      <td>Thriller</td>\n      <td>3.780928</td>\n    </tr>\n  </tbody>\n</table>\n<p>6408 rows × 2 columns</p>\n</div>"
     },
     "metadata": {},
     "execution_count": 34
    }
   ],
   "source": [
    "categoriesrating=categories.join(ratingmean)\n",
    "categoriesrating"
   ]
  },
  {
   "cell_type": "code",
   "execution_count": 35,
   "metadata": {},
   "outputs": [
    {
     "output_type": "execute_result",
     "data": {
      "text/plain": [
       "Category  Action  Adventure  Animation  Children's    Comedy  Crime  \\\n",
       "MovieID                                                               \n",
       "1            NaN        NaN   4.146846    4.146846  4.146846    NaN   \n",
       "2            NaN   3.201141        NaN    3.201141       NaN    NaN   \n",
       "3            NaN        NaN        NaN         NaN  3.016736    NaN   \n",
       "4            NaN        NaN        NaN         NaN  2.729412    NaN   \n",
       "5            NaN        NaN        NaN         NaN  3.006757    NaN   \n",
       "...          ...        ...        ...         ...       ...    ...   \n",
       "3948         NaN        NaN        NaN         NaN  3.635731    NaN   \n",
       "3949         NaN        NaN        NaN         NaN       NaN    NaN   \n",
       "3950         NaN        NaN        NaN         NaN       NaN    NaN   \n",
       "3951         NaN        NaN        NaN         NaN       NaN    NaN   \n",
       "3952         NaN        NaN        NaN         NaN       NaN    NaN   \n",
       "\n",
       "Category  Documentary     Drama   Fantasy  Film-Noir  Horror  Musical  \\\n",
       "MovieID                                                                 \n",
       "1                 NaN       NaN       NaN        NaN     NaN      NaN   \n",
       "2                 NaN       NaN  3.201141        NaN     NaN      NaN   \n",
       "3                 NaN       NaN       NaN        NaN     NaN      NaN   \n",
       "4                 NaN  2.729412       NaN        NaN     NaN      NaN   \n",
       "5                 NaN       NaN       NaN        NaN     NaN      NaN   \n",
       "...               ...       ...       ...        ...     ...      ...   \n",
       "3948              NaN       NaN       NaN        NaN     NaN      NaN   \n",
       "3949              NaN  4.115132       NaN        NaN     NaN      NaN   \n",
       "3950              NaN  3.666667       NaN        NaN     NaN      NaN   \n",
       "3951              NaN  3.900000       NaN        NaN     NaN      NaN   \n",
       "3952              NaN  3.780928       NaN        NaN     NaN      NaN   \n",
       "\n",
       "Category  Mystery   Romance  Sci-Fi  Thriller  War  Western  \n",
       "MovieID                                                      \n",
       "1             NaN       NaN     NaN       NaN  NaN      NaN  \n",
       "2             NaN       NaN     NaN       NaN  NaN      NaN  \n",
       "3             NaN  3.016736     NaN       NaN  NaN      NaN  \n",
       "4             NaN       NaN     NaN       NaN  NaN      NaN  \n",
       "5             NaN       NaN     NaN       NaN  NaN      NaN  \n",
       "...           ...       ...     ...       ...  ...      ...  \n",
       "3948          NaN       NaN     NaN       NaN  NaN      NaN  \n",
       "3949          NaN       NaN     NaN       NaN  NaN      NaN  \n",
       "3950          NaN       NaN     NaN       NaN  NaN      NaN  \n",
       "3951          NaN       NaN     NaN       NaN  NaN      NaN  \n",
       "3952          NaN       NaN     NaN  3.780928  NaN      NaN  \n",
       "\n",
       "[3883 rows x 18 columns]"
      ],
      "text/html": "<div>\n<style scoped>\n    .dataframe tbody tr th:only-of-type {\n        vertical-align: middle;\n    }\n\n    .dataframe tbody tr th {\n        vertical-align: top;\n    }\n\n    .dataframe thead th {\n        text-align: right;\n    }\n</style>\n<table border=\"1\" class=\"dataframe\">\n  <thead>\n    <tr style=\"text-align: right;\">\n      <th>Category</th>\n      <th>Action</th>\n      <th>Adventure</th>\n      <th>Animation</th>\n      <th>Children's</th>\n      <th>Comedy</th>\n      <th>Crime</th>\n      <th>Documentary</th>\n      <th>Drama</th>\n      <th>Fantasy</th>\n      <th>Film-Noir</th>\n      <th>Horror</th>\n      <th>Musical</th>\n      <th>Mystery</th>\n      <th>Romance</th>\n      <th>Sci-Fi</th>\n      <th>Thriller</th>\n      <th>War</th>\n      <th>Western</th>\n    </tr>\n    <tr>\n      <th>MovieID</th>\n      <th></th>\n      <th></th>\n      <th></th>\n      <th></th>\n      <th></th>\n      <th></th>\n      <th></th>\n      <th></th>\n      <th></th>\n      <th></th>\n      <th></th>\n      <th></th>\n      <th></th>\n      <th></th>\n      <th></th>\n      <th></th>\n      <th></th>\n      <th></th>\n    </tr>\n  </thead>\n  <tbody>\n    <tr>\n      <th>1</th>\n      <td>NaN</td>\n      <td>NaN</td>\n      <td>4.146846</td>\n      <td>4.146846</td>\n      <td>4.146846</td>\n      <td>NaN</td>\n      <td>NaN</td>\n      <td>NaN</td>\n      <td>NaN</td>\n      <td>NaN</td>\n      <td>NaN</td>\n      <td>NaN</td>\n      <td>NaN</td>\n      <td>NaN</td>\n      <td>NaN</td>\n      <td>NaN</td>\n      <td>NaN</td>\n      <td>NaN</td>\n    </tr>\n    <tr>\n      <th>2</th>\n      <td>NaN</td>\n      <td>3.201141</td>\n      <td>NaN</td>\n      <td>3.201141</td>\n      <td>NaN</td>\n      <td>NaN</td>\n      <td>NaN</td>\n      <td>NaN</td>\n      <td>3.201141</td>\n      <td>NaN</td>\n      <td>NaN</td>\n      <td>NaN</td>\n      <td>NaN</td>\n      <td>NaN</td>\n      <td>NaN</td>\n      <td>NaN</td>\n      <td>NaN</td>\n      <td>NaN</td>\n    </tr>\n    <tr>\n      <th>3</th>\n      <td>NaN</td>\n      <td>NaN</td>\n      <td>NaN</td>\n      <td>NaN</td>\n      <td>3.016736</td>\n      <td>NaN</td>\n      <td>NaN</td>\n      <td>NaN</td>\n      <td>NaN</td>\n      <td>NaN</td>\n      <td>NaN</td>\n      <td>NaN</td>\n      <td>NaN</td>\n      <td>3.016736</td>\n      <td>NaN</td>\n      <td>NaN</td>\n      <td>NaN</td>\n      <td>NaN</td>\n    </tr>\n    <tr>\n      <th>4</th>\n      <td>NaN</td>\n      <td>NaN</td>\n      <td>NaN</td>\n      <td>NaN</td>\n      <td>2.729412</td>\n      <td>NaN</td>\n      <td>NaN</td>\n      <td>2.729412</td>\n      <td>NaN</td>\n      <td>NaN</td>\n      <td>NaN</td>\n      <td>NaN</td>\n      <td>NaN</td>\n      <td>NaN</td>\n      <td>NaN</td>\n      <td>NaN</td>\n      <td>NaN</td>\n      <td>NaN</td>\n    </tr>\n    <tr>\n      <th>5</th>\n      <td>NaN</td>\n      <td>NaN</td>\n      <td>NaN</td>\n      <td>NaN</td>\n      <td>3.006757</td>\n      <td>NaN</td>\n      <td>NaN</td>\n      <td>NaN</td>\n      <td>NaN</td>\n      <td>NaN</td>\n      <td>NaN</td>\n      <td>NaN</td>\n      <td>NaN</td>\n      <td>NaN</td>\n      <td>NaN</td>\n      <td>NaN</td>\n      <td>NaN</td>\n      <td>NaN</td>\n    </tr>\n    <tr>\n      <th>...</th>\n      <td>...</td>\n      <td>...</td>\n      <td>...</td>\n      <td>...</td>\n      <td>...</td>\n      <td>...</td>\n      <td>...</td>\n      <td>...</td>\n      <td>...</td>\n      <td>...</td>\n      <td>...</td>\n      <td>...</td>\n      <td>...</td>\n      <td>...</td>\n      <td>...</td>\n      <td>...</td>\n      <td>...</td>\n      <td>...</td>\n    </tr>\n    <tr>\n      <th>3948</th>\n      <td>NaN</td>\n      <td>NaN</td>\n      <td>NaN</td>\n      <td>NaN</td>\n      <td>3.635731</td>\n      <td>NaN</td>\n      <td>NaN</td>\n      <td>NaN</td>\n      <td>NaN</td>\n      <td>NaN</td>\n      <td>NaN</td>\n      <td>NaN</td>\n      <td>NaN</td>\n      <td>NaN</td>\n      <td>NaN</td>\n      <td>NaN</td>\n      <td>NaN</td>\n      <td>NaN</td>\n    </tr>\n    <tr>\n      <th>3949</th>\n      <td>NaN</td>\n      <td>NaN</td>\n      <td>NaN</td>\n      <td>NaN</td>\n      <td>NaN</td>\n      <td>NaN</td>\n      <td>NaN</td>\n      <td>4.115132</td>\n      <td>NaN</td>\n      <td>NaN</td>\n      <td>NaN</td>\n      <td>NaN</td>\n      <td>NaN</td>\n      <td>NaN</td>\n      <td>NaN</td>\n      <td>NaN</td>\n      <td>NaN</td>\n      <td>NaN</td>\n    </tr>\n    <tr>\n      <th>3950</th>\n      <td>NaN</td>\n      <td>NaN</td>\n      <td>NaN</td>\n      <td>NaN</td>\n      <td>NaN</td>\n      <td>NaN</td>\n      <td>NaN</td>\n      <td>3.666667</td>\n      <td>NaN</td>\n      <td>NaN</td>\n      <td>NaN</td>\n      <td>NaN</td>\n      <td>NaN</td>\n      <td>NaN</td>\n      <td>NaN</td>\n      <td>NaN</td>\n      <td>NaN</td>\n      <td>NaN</td>\n    </tr>\n    <tr>\n      <th>3951</th>\n      <td>NaN</td>\n      <td>NaN</td>\n      <td>NaN</td>\n      <td>NaN</td>\n      <td>NaN</td>\n      <td>NaN</td>\n      <td>NaN</td>\n      <td>3.900000</td>\n      <td>NaN</td>\n      <td>NaN</td>\n      <td>NaN</td>\n      <td>NaN</td>\n      <td>NaN</td>\n      <td>NaN</td>\n      <td>NaN</td>\n      <td>NaN</td>\n      <td>NaN</td>\n      <td>NaN</td>\n    </tr>\n    <tr>\n      <th>3952</th>\n      <td>NaN</td>\n      <td>NaN</td>\n      <td>NaN</td>\n      <td>NaN</td>\n      <td>NaN</td>\n      <td>NaN</td>\n      <td>NaN</td>\n      <td>3.780928</td>\n      <td>NaN</td>\n      <td>NaN</td>\n      <td>NaN</td>\n      <td>NaN</td>\n      <td>NaN</td>\n      <td>NaN</td>\n      <td>NaN</td>\n      <td>3.780928</td>\n      <td>NaN</td>\n      <td>NaN</td>\n    </tr>\n  </tbody>\n</table>\n<p>3883 rows × 18 columns</p>\n</div>"
     },
     "metadata": {},
     "execution_count": 35
    }
   ],
   "source": [
    "catmatrix=categoriesrating.pivot(columns='Category',values='Rating')\n",
    "catmatrix"
   ]
  },
  {
   "cell_type": "code",
   "execution_count": 36,
   "metadata": {},
   "outputs": [
    {
     "output_type": "execute_result",
     "data": {
      "text/plain": [
       "MovieID\n",
       "989     5.000000\n",
       "3382    5.000000\n",
       "3607    5.000000\n",
       "3245    4.800000\n",
       "53      4.750000\n",
       "2503    4.666667\n",
       "2019    4.560510\n",
       "318     4.554558\n",
       "858     4.524966\n",
       "527     4.510417\n",
       "3888    4.500000\n",
       "2480    4.500000\n",
       "439     4.500000\n",
       "2309    4.500000\n",
       "1795    4.500000\n",
       "3517    4.500000\n",
       "578     4.500000\n",
       "557     4.500000\n",
       "1178    4.473913\n",
       "1207    4.425647\n",
       "Name: Drama, dtype: float64"
      ]
     },
     "metadata": {},
     "execution_count": 36
    }
   ],
   "source": [
    "Category='Drama'\n",
    "catmatrix[Category].sort_values(ascending=False)[:20]"
   ]
  },
  {
   "cell_type": "code",
   "execution_count": 59,
   "metadata": {},
   "outputs": [
    {
     "output_type": "execute_result",
     "data": {
      "text/plain": [
       "       Category\n",
       "0        Action\n",
       "1     Adventure\n",
       "2     Animation\n",
       "3    Children's\n",
       "4        Comedy\n",
       "5         Crime\n",
       "6   Documentary\n",
       "7         Drama\n",
       "8       Fantasy\n",
       "9     Film-Noir\n",
       "10       Horror\n",
       "11      Musical\n",
       "12      Mystery\n",
       "13      Romance\n",
       "14       Sci-Fi\n",
       "15     Thriller\n",
       "16          War\n",
       "17      Western"
      ],
      "text/html": "<div>\n<style scoped>\n    .dataframe tbody tr th:only-of-type {\n        vertical-align: middle;\n    }\n\n    .dataframe tbody tr th {\n        vertical-align: top;\n    }\n\n    .dataframe thead th {\n        text-align: right;\n    }\n</style>\n<table border=\"1\" class=\"dataframe\">\n  <thead>\n    <tr style=\"text-align: right;\">\n      <th></th>\n      <th>Category</th>\n    </tr>\n  </thead>\n  <tbody>\n    <tr>\n      <th>0</th>\n      <td>Action</td>\n    </tr>\n    <tr>\n      <th>1</th>\n      <td>Adventure</td>\n    </tr>\n    <tr>\n      <th>2</th>\n      <td>Animation</td>\n    </tr>\n    <tr>\n      <th>3</th>\n      <td>Children's</td>\n    </tr>\n    <tr>\n      <th>4</th>\n      <td>Comedy</td>\n    </tr>\n    <tr>\n      <th>5</th>\n      <td>Crime</td>\n    </tr>\n    <tr>\n      <th>6</th>\n      <td>Documentary</td>\n    </tr>\n    <tr>\n      <th>7</th>\n      <td>Drama</td>\n    </tr>\n    <tr>\n      <th>8</th>\n      <td>Fantasy</td>\n    </tr>\n    <tr>\n      <th>9</th>\n      <td>Film-Noir</td>\n    </tr>\n    <tr>\n      <th>10</th>\n      <td>Horror</td>\n    </tr>\n    <tr>\n      <th>11</th>\n      <td>Musical</td>\n    </tr>\n    <tr>\n      <th>12</th>\n      <td>Mystery</td>\n    </tr>\n    <tr>\n      <th>13</th>\n      <td>Romance</td>\n    </tr>\n    <tr>\n      <th>14</th>\n      <td>Sci-Fi</td>\n    </tr>\n    <tr>\n      <th>15</th>\n      <td>Thriller</td>\n    </tr>\n    <tr>\n      <th>16</th>\n      <td>War</td>\n    </tr>\n    <tr>\n      <th>17</th>\n      <td>Western</td>\n    </tr>\n  </tbody>\n</table>\n</div>"
     },
     "metadata": {},
     "execution_count": 59
    }
   ],
   "source": [
    "#categories=categories.reset_index()\n",
    "ucat=categories.Category.unique()\n",
    "ucat.sort()\n",
    "ucategories=pd.DataFrame(data=ucat,columns=['Category'])\n",
    "ucategories"
   ]
  },
  {
   "cell_type": "code",
   "execution_count": 61,
   "metadata": {},
   "outputs": [],
   "source": [
    "ucategories.to_feather('./recommenderapp/static/categories.feather')"
   ]
  },
  {
   "cell_type": "code",
   "execution_count": 266,
   "metadata": {},
   "outputs": [],
   "source": [
    "catmatrix=catmatrix.reset_index()"
   ]
  },
  {
   "cell_type": "code",
   "execution_count": 267,
   "metadata": {},
   "outputs": [],
   "source": [
    "catmatrix.to_feather('./recommenderapp/static/genresmatrix.feather')"
   ]
  },
  {
   "cell_type": "code",
   "execution_count": 12,
   "metadata": {},
   "outputs": [
    {
     "output_type": "execute_result",
     "data": {
      "text/plain": [
       "      MovieID                               Movie  \\\n",
       "0           1                    Toy Story (1995)   \n",
       "1           2                      Jumanji (1995)   \n",
       "2           3             Grumpier Old Men (1995)   \n",
       "3           4            Waiting to Exhale (1995)   \n",
       "4           5  Father of the Bride Part II (1995)   \n",
       "...       ...                                 ...   \n",
       "3878     3948             Meet the Parents (2000)   \n",
       "3879     3949          Requiem for a Dream (2000)   \n",
       "3880     3950                    Tigerland (2000)   \n",
       "3881     3951             Two Family House (2000)   \n",
       "3882     3952               Contender, The (2000)   \n",
       "\n",
       "                            Title  Year                Filename  \n",
       "0                       Toy Story  1995     images/movies/1.jpg  \n",
       "1                         Jumanji  1995     images/movies/2.jpg  \n",
       "2                Grumpier Old Men  1995     images/movies/3.jpg  \n",
       "3               Waiting to Exhale  1995     images/movies/4.jpg  \n",
       "4     Father of the Bride Part II  1995     images/movies/5.jpg  \n",
       "...                           ...   ...                     ...  \n",
       "3878             Meet the Parents  2000  images/movies/3948.jpg  \n",
       "3879          Requiem for a Dream  2000  images/movies/3949.jpg  \n",
       "3880                    Tigerland  2000  images/movies/3950.jpg  \n",
       "3881             Two Family House  2000  images/movies/3951.jpg  \n",
       "3882                Contender The  2000  images/movies/3952.jpg  \n",
       "\n",
       "[3883 rows x 5 columns]"
      ],
      "text/html": "<div>\n<style scoped>\n    .dataframe tbody tr th:only-of-type {\n        vertical-align: middle;\n    }\n\n    .dataframe tbody tr th {\n        vertical-align: top;\n    }\n\n    .dataframe thead th {\n        text-align: right;\n    }\n</style>\n<table border=\"1\" class=\"dataframe\">\n  <thead>\n    <tr style=\"text-align: right;\">\n      <th></th>\n      <th>MovieID</th>\n      <th>Movie</th>\n      <th>Title</th>\n      <th>Year</th>\n      <th>Filename</th>\n    </tr>\n  </thead>\n  <tbody>\n    <tr>\n      <th>0</th>\n      <td>1</td>\n      <td>Toy Story (1995)</td>\n      <td>Toy Story</td>\n      <td>1995</td>\n      <td>images/movies/1.jpg</td>\n    </tr>\n    <tr>\n      <th>1</th>\n      <td>2</td>\n      <td>Jumanji (1995)</td>\n      <td>Jumanji</td>\n      <td>1995</td>\n      <td>images/movies/2.jpg</td>\n    </tr>\n    <tr>\n      <th>2</th>\n      <td>3</td>\n      <td>Grumpier Old Men (1995)</td>\n      <td>Grumpier Old Men</td>\n      <td>1995</td>\n      <td>images/movies/3.jpg</td>\n    </tr>\n    <tr>\n      <th>3</th>\n      <td>4</td>\n      <td>Waiting to Exhale (1995)</td>\n      <td>Waiting to Exhale</td>\n      <td>1995</td>\n      <td>images/movies/4.jpg</td>\n    </tr>\n    <tr>\n      <th>4</th>\n      <td>5</td>\n      <td>Father of the Bride Part II (1995)</td>\n      <td>Father of the Bride Part II</td>\n      <td>1995</td>\n      <td>images/movies/5.jpg</td>\n    </tr>\n    <tr>\n      <th>...</th>\n      <td>...</td>\n      <td>...</td>\n      <td>...</td>\n      <td>...</td>\n      <td>...</td>\n    </tr>\n    <tr>\n      <th>3878</th>\n      <td>3948</td>\n      <td>Meet the Parents (2000)</td>\n      <td>Meet the Parents</td>\n      <td>2000</td>\n      <td>images/movies/3948.jpg</td>\n    </tr>\n    <tr>\n      <th>3879</th>\n      <td>3949</td>\n      <td>Requiem for a Dream (2000)</td>\n      <td>Requiem for a Dream</td>\n      <td>2000</td>\n      <td>images/movies/3949.jpg</td>\n    </tr>\n    <tr>\n      <th>3880</th>\n      <td>3950</td>\n      <td>Tigerland (2000)</td>\n      <td>Tigerland</td>\n      <td>2000</td>\n      <td>images/movies/3950.jpg</td>\n    </tr>\n    <tr>\n      <th>3881</th>\n      <td>3951</td>\n      <td>Two Family House (2000)</td>\n      <td>Two Family House</td>\n      <td>2000</td>\n      <td>images/movies/3951.jpg</td>\n    </tr>\n    <tr>\n      <th>3882</th>\n      <td>3952</td>\n      <td>Contender, The (2000)</td>\n      <td>Contender The</td>\n      <td>2000</td>\n      <td>images/movies/3952.jpg</td>\n    </tr>\n  </tbody>\n</table>\n<p>3883 rows × 5 columns</p>\n</div>"
     },
     "metadata": {},
     "execution_count": 12
    }
   ],
   "source": [
    "movies=movies.reset_index()\n",
    "movies=movies[['MovieID','Movie','Title','Year','Filename']]\n",
    "movies"
   ]
  },
  {
   "cell_type": "code",
   "execution_count": 13,
   "metadata": {},
   "outputs": [],
   "source": [
    "movies.to_feather('./recommenderapp/static/movies.feather')"
   ]
  },
  {
   "cell_type": "code",
   "execution_count": null,
   "metadata": {},
   "outputs": [],
   "source": []
  }
 ],
 "metadata": {
  "kernelspec": {
   "display_name": "Python 3.8.5 64-bit ('base': conda)",
   "language": "python",
   "name": "python38564bitbaseconda48083e26424a468292f16a3274c04cbf"
  },
  "language_info": {
   "codemirror_mode": {
    "name": "ipython",
    "version": 3
   },
   "file_extension": ".py",
   "mimetype": "text/x-python",
   "name": "python",
   "nbconvert_exporter": "python",
   "pygments_lexer": "ipython3",
   "version": "3.8.5-final"
  }
 },
 "nbformat": 4,
 "nbformat_minor": 2
}